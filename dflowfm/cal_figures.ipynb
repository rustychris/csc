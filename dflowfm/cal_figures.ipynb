{
 "cells": [
  {
   "cell_type": "markdown",
   "metadata": {},
   "source": []
  },
  {
   "cell_type": "code",
   "execution_count": 1,
   "metadata": {},
   "outputs": [],
   "source": [
    "import six\n",
    "import os\n",
    "import numpy as np\n",
    "import pandas as pd\n",
    "import xarray as xr\n",
    "from matplotlib import ticker\n",
    "\n",
    "from stompy import utils\n",
    "import matplotlib.pyplot as plt\n",
    "\n",
    "\n",
    "from stompy.model import data_comparison\n",
    "from stompy.model.delft import dflow_model\n",
    "\n",
    "%matplotlib notebook"
   ]
  },
  {
   "cell_type": "code",
   "execution_count": 23,
   "metadata": {},
   "outputs": [
    {
     "data": {
      "text/plain": [
       "<module 'stompy.model.delft.dflow_model' from '/home/rustyh/src/stompy/stompy/model/delft/dflow_model.py'>"
      ]
     },
     "execution_count": 23,
     "metadata": {},
     "output_type": "execute_result"
    }
   ],
   "source": [
    "six.moves.reload_module(dflow_model)"
   ]
  },
  {
   "cell_type": "code",
   "execution_count": 24,
   "metadata": {},
   "outputs": [
    {
     "name": "stdout",
     "output_type": "stream",
     "text": [
      "\u001b[0m\u001b[01;34mbase20180701\u001b[0m/              \u001b[01;34mtest201901_20190101\u001b[0m/  \u001b[01;34mwaqsed-201404_v13\u001b[0m/\r\n",
      "\u001b[01;34mroughsearch\u001b[0m/               \u001b[01;34mwaqsed-201404_v02\u001b[0m/\r\n",
      "\u001b[01;34mrun20190101-v00_20190101\u001b[0m/  \u001b[01;34mwaqsed-201404_v03\u001b[0m/\r\n"
     ]
    }
   ],
   "source": [
    "ls runs"
   ]
  },
  {
   "cell_type": "code",
   "execution_count": 25,
   "metadata": {},
   "outputs": [],
   "source": [
    "model=dflow_model.DFlowModel.load('runs/test201901_20190101/flowfm.mdu')"
   ]
  },
  {
   "cell_type": "code",
   "execution_count": 26,
   "metadata": {},
   "outputs": [],
   "source": [
    "# CSV datasources:\n",
    "base_dir=\".\"\n",
    "csv_dir=os.path.join(base_dir,\"calibration_data\")"
   ]
  },
  {
   "cell_type": "code",
   "execution_count": 27,
   "metadata": {},
   "outputs": [
    {
     "data": {
      "text/plain": [
       "True"
      ]
     },
     "execution_count": 27,
     "metadata": {},
     "output_type": "execute_result"
    }
   ],
   "source": [
    "fig_dir=os.path.join(os.path.dirname(model.his_output()),\"figs-20200718\")\n",
    "os.path.exists(fig_dir) or os.mkdir(fig_dir)"
   ]
  },
  {
   "cell_type": "code",
   "execution_count": 28,
   "metadata": {},
   "outputs": [],
   "source": [
    "def add_flow(name,csv_fn,**extra):\n",
    "    fn=os.path.join(csv_dir,csv_fn)\n",
    "    df=pd.read_csv(fn,parse_dates=['Time'])\n",
    "    obs=xr.Dataset.from_dataframe(df)\n",
    "    # standardize and add metadata\n",
    "    obs['time']=('time',),df.Time.values\n",
    "    obs.time.attrs['timezone']='PST'\n",
    "    obs['flow']=('time',),obs.Flow*0.028316847\n",
    "    obs.flow.attrs['units']='m3 s-1'\n",
    "    obs_da=obs.flow\n",
    "\n",
    "    mod=model.extract_section(name=name)\n",
    "\n",
    "    model_da=mod.cross_section_discharge\n",
    "    model_da.name='flow'\n",
    "    model_da=model_da.isel(time=model_da.time-model_da.time.values[0]>np.timedelta64(24,'h'))\n",
    "\n",
    "    model_da.attrs['label']=\"Model\"\n",
    "    obs_da.attrs['label']=\"Obs.\"\n",
    "\n",
    "    model_da=model_da.assign_coords(label=\"Model\")\n",
    "    obs_da=obs_da.assign_coords(label=\"Obs.\")\n",
    "\n",
    "    plot_def=dict(sources=[obs_da,model_da],\n",
    "                  station_name=name)\n",
    "    plot_def.update(extra)\n",
    "    plot_defs.append(plot_def)\n"
   ]
  },
  {
   "cell_type": "code",
   "execution_count": 29,
   "metadata": {},
   "outputs": [],
   "source": [
    "def add_stage(name,csv_fn,**extra):\n",
    "    fn=os.path.join(csv_dir,csv_fn)\n",
    "    df=pd.read_csv(fn,parse_dates=['Time'])\n",
    "    obs=xr.Dataset.from_dataframe(df)\n",
    "    # standardize and add metadata\n",
    "    obs['time']=('time',),df.Time.values\n",
    "    obs.time.attrs['timezone']='PST'\n",
    "    obs['water_level']=('time',),obs.Stage\n",
    "    obs.water_level.attrs['units']='m'\n",
    "    \n",
    "    # some source files have missing records\n",
    "    invalid=utils.isnat(obs.time.values)\n",
    "    obs=obs.isel(time=~invalid)\n",
    "    \n",
    "    obs_da=obs.water_level\n",
    "\n",
    "    mod=model.extract_station(name=name)\n",
    "\n",
    "    model_da=mod.waterlevel\n",
    "    model_da.name='water_level'\n",
    "    model_da=model_da.isel(time=model_da.time-model_da.time.values[0]>np.timedelta64(24,'h'))\n",
    "\n",
    "    model_da.attrs['label']=\"Model\"\n",
    "    obs_da.attrs['label']=\"Obs.\"\n",
    "\n",
    "    model_da=model_da.assign_coords(label=\"Model\")\n",
    "    obs_da=obs_da.assign_coords(label=\"Obs.\")\n",
    "\n",
    "    plot_def=dict(sources=[obs_da,model_da],\n",
    "                  station_name=name)\n",
    "    plot_def.update(extra)\n",
    "    plot_defs.append(plot_def)\n",
    "    "
   ]
  },
  {
   "cell_type": "code",
   "execution_count": 32,
   "metadata": {},
   "outputs": [],
   "source": [
    "plot_defs=[]\n",
    "add_flow(\"DOP\",\"DOP_flow_cfs.csv\")\n",
    "\n",
    "add_stage(\"CCS\",'CCS_orig_stage_m.csv')\n",
    "add_stage(\"LN2\",'HecDssExcel6060592544570966047_LN2_wsel.csv',\n",
    "          zoom_period=[735336.386, 735347.])"
   ]
  },
  {
   "cell_type": "code",
   "execution_count": 37,
   "metadata": {
    "scrolled": false
   },
   "outputs": [
    {
     "name": "stderr",
     "output_type": "stream",
     "text": [
      "WARNING:root:Combined sources was None -- likely no overlap between data sets\n",
      "WARNING:root:Combined sources was None -- likely no overlap between data sets\n",
      "WARNING:root:Combined sources was None -- likely no overlap between data sets\n"
     ]
    },
    {
     "name": "stdout",
     "output_type": "stream",
     "text": [
      "Empty time series\n",
      "Empty time series\n",
      "Empty time series\n"
     ]
    }
   ],
   "source": [
    "six.moves.reload_module(data_comparison)\n",
    "\n",
    "defaults=dict( zoom_period=[735336.386, 735347.])\n",
    "\n",
    "for plot_def in plot_defs:\n",
    "    settings=dict(defaults)# copy\n",
    "    settings.update(plot_def)\n",
    "    srcs=settings['sources']\n",
    "    fig=data_comparison.calibration_figure_3panel(srcs,trim_time=True,\n",
    "                                                  styles=[dict(color='k'),\n",
    "                                                          dict(color='g')])\n",
    "    if fig is None:\n",
    "        continue\n",
    "    param=srcs[0].name\n",
    "    \n",
    "    if param=='flow':\n",
    "        fig.axes[0].set_ylabel('Flow (m$^3$s$^{-1}$)')\n",
    "        fig.axes[1].set_ylabel('Residual flow (m$^3$s$^{-1}$)')\n",
    "        fig.axes[0].set_title(\"Flow Calibration: %s\"%plot_def['station_name'])\n",
    "    elif param=='water_level':\n",
    "        fig.axes[0].set_ylabel('Stage (m)')\n",
    "        fig.axes[1].set_ylabel('Lowpass stage (m)')\n",
    "        fig.axes[0].set_title(\"Stage Calibration: %s\"%plot_def['station_name'])\n",
    "        \n",
    "    fig.axes[0].axis(xmin=settings['zoom_period'][0],\n",
    "                     xmax=settings['zoom_period'][1])\n",
    "\n",
    "    # this really should be automatic, but RRuleLocator does some weird stuff\n",
    "    # with months.\n",
    "    fig.axes[0].xaxis.set_major_locator(ticker.MultipleLocator(3))\n",
    "    fig.axes[1].xaxis.set_major_locator(ticker.MultipleLocator(7))\n",
    "    fig.subplots_adjust(wspace=0.35)\n",
    "\n",
    "    img_fn=os.path.join(fig_dir,\"%s-%s.png\"%(plot_def['station_name'],\n",
    "                                             param))\n",
    "    fig.savefig(img_fn,dpi=200)"
   ]
  }
 ],
 "metadata": {
  "kernelspec": {
   "display_name": "Python 3",
   "language": "python",
   "name": "python3"
  },
  "language_info": {
   "codemirror_mode": {
    "name": "ipython",
    "version": 3
   },
   "file_extension": ".py",
   "mimetype": "text/x-python",
   "name": "python",
   "nbconvert_exporter": "python",
   "pygments_lexer": "ipython3",
   "version": "3.7.3"
  }
 },
 "nbformat": 4,
 "nbformat_minor": 2
}
